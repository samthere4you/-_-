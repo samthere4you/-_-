{
 "cells": [
  {
   "cell_type": "markdown",
   "id": "368cb6eb",
   "metadata": {},
   "source": [
    "# FIBONACCI GENERATOR"
   ]
  },
  {
   "cell_type": "markdown",
   "id": "6347182b",
   "metadata": {},
   "source": [
    "The Fibonacci sequence is defined by the recurrence relation:\n",
    "\n",
    "\n",
    "F(n)=F(n−1)+F(n−2)\n",
    "\n",
    "with initial conditions:\n",
    "\n",
    "F(0)=0,F(1)=1\n",
    "\n",
    "This means that each number in the sequence is the sum of the two preceding ones. "
   ]
  },
  {
   "cell_type": "markdown",
   "id": "a2f8a107",
   "metadata": {},
   "source": [
    "\n",
    "**This below program uses an infinite loop (while True) and continuously prompts the user for the number of Fibonacci numbers to generate. It generates the sequence and prints it for each input. If the user enters 0, the loop breaks, and the program exits. The sequence is reset for each iteration to start fresh for the next input.**\n"
   ]
  },
  {
   "cell_type": "code",
   "execution_count": 1,
   "id": "6502b575",
   "metadata": {},
   "outputs": [
    {
     "name": "stdout",
     "output_type": "stream",
     "text": [
      "Enter the number of Fibonacci numbers to generate (enter 0 to exit): 1\n",
      "Fibonacci sequence for the first 1 numbers: [0]\n",
      "Enter the number of Fibonacci numbers to generate (enter 0 to exit): 2\n",
      "Fibonacci sequence for the first 2 numbers: [0, 1]\n",
      "Enter the number of Fibonacci numbers to generate (enter 0 to exit): 3\n",
      "Fibonacci sequence for the first 3 numbers: [0, 1, 1]\n",
      "Enter the number of Fibonacci numbers to generate (enter 0 to exit): 4\n",
      "Fibonacci sequence for the first 4 numbers: [0, 1, 1, 2]\n",
      "Enter the number of Fibonacci numbers to generate (enter 0 to exit): 5\n",
      "Fibonacci sequence for the first 5 numbers: [0, 1, 1, 2, 3]\n",
      "Enter the number of Fibonacci numbers to generate (enter 0 to exit): 6\n",
      "Fibonacci sequence for the first 6 numbers: [0, 1, 1, 2, 3, 5]\n",
      "Enter the number of Fibonacci numbers to generate (enter 0 to exit): 7\n",
      "Fibonacci sequence for the first 7 numbers: [0, 1, 1, 2, 3, 5, 8]\n",
      "Enter the number of Fibonacci numbers to generate (enter 0 to exit): 8\n",
      "Fibonacci sequence for the first 8 numbers: [0, 1, 1, 2, 3, 5, 8, 13]\n",
      "Enter the number of Fibonacci numbers to generate (enter 0 to exit): 9\n",
      "Fibonacci sequence for the first 9 numbers: [0, 1, 1, 2, 3, 5, 8, 13, 21]\n",
      "Enter the number of Fibonacci numbers to generate (enter 0 to exit): 10\n",
      "Fibonacci sequence for the first 10 numbers: [0, 1, 1, 2, 3, 5, 8, 13, 21, 34]\n",
      "Enter the number of Fibonacci numbers to generate (enter 0 to exit): 11\n",
      "Fibonacci sequence for the first 11 numbers: [0, 1, 1, 2, 3, 5, 8, 13, 21, 34, 55]\n",
      "Enter the number of Fibonacci numbers to generate (enter 0 to exit): 12\n",
      "Fibonacci sequence for the first 12 numbers: [0, 1, 1, 2, 3, 5, 8, 13, 21, 34, 55, 89]\n",
      "Enter the number of Fibonacci numbers to generate (enter 0 to exit): 13\n",
      "Fibonacci sequence for the first 13 numbers: [0, 1, 1, 2, 3, 5, 8, 13, 21, 34, 55, 89, 144]\n",
      "Enter the number of Fibonacci numbers to generate (enter 0 to exit): 14\n",
      "Fibonacci sequence for the first 14 numbers: [0, 1, 1, 2, 3, 5, 8, 13, 21, 34, 55, 89, 144, 233]\n",
      "Enter the number of Fibonacci numbers to generate (enter 0 to exit): 15\n",
      "Fibonacci sequence for the first 15 numbers: [0, 1, 1, 2, 3, 5, 8, 13, 21, 34, 55, 89, 144, 233, 377]\n",
      "Enter the number of Fibonacci numbers to generate (enter 0 to exit): 0\n"
     ]
    }
   ],
   "source": [
    "def generate_fibonacci():\n",
    "    fibonacci_sequence = [0, 1]\n",
    "\n",
    "    while True:\n",
    "        n = int(input(\"Enter the number of Fibonacci numbers to generate (enter 0 to exit): \"))\n",
    "        \n",
    "        if n == 0:\n",
    "            break\n",
    "\n",
    "        for i in range(2, n):\n",
    "            next_number = fibonacci_sequence[-1] + fibonacci_sequence[-2]\n",
    "            fibonacci_sequence.append(next_number)\n",
    "\n",
    "        print(f\"Fibonacci sequence for the first {n} numbers: {fibonacci_sequence[:n]}\")\n",
    "\n",
    "        # Reset sequence for the next iteration\n",
    "        fibonacci_sequence = [0, 1]\n",
    "\n",
    "generate_fibonacci()\n"
   ]
  },
  {
   "cell_type": "code",
   "execution_count": null,
   "id": "15429e8b",
   "metadata": {},
   "outputs": [],
   "source": []
  }
 ],
 "metadata": {
  "kernelspec": {
   "display_name": "Python 3 (ipykernel)",
   "language": "python",
   "name": "python3"
  },
  "language_info": {
   "codemirror_mode": {
    "name": "ipython",
    "version": 3
   },
   "file_extension": ".py",
   "mimetype": "text/x-python",
   "name": "python",
   "nbconvert_exporter": "python",
   "pygments_lexer": "ipython3",
   "version": "3.11.3"
  }
 },
 "nbformat": 4,
 "nbformat_minor": 5
}
